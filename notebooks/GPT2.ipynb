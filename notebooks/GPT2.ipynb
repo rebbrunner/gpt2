{
 "cells": [
  {
   "cell_type": "code",
   "execution_count": 1,
   "id": "205fd305-eb40-4068-95b4-8953b6fa3e52",
   "metadata": {
    "collapsed": true,
    "jupyter": {
     "outputs_hidden": true
    }
   },
   "outputs": [
    {
     "name": "stderr",
     "output_type": "stream",
     "text": [
      "ERROR:tornado.general:Uncaught exception in ZMQStream callback\n",
      "Traceback (most recent call last):\n",
      "  File \"/home/rebs/dev/gpt2/.env/lib/python3.9/site-packages/traitlets/traitlets.py\", line 632, in get\n",
      "    value = obj._trait_values[self.name]\n",
      "KeyError: '_control_lock'\n",
      "\n",
      "During handling of the above exception, another exception occurred:\n",
      "\n",
      "Traceback (most recent call last):\n",
      "  File \"/home/rebs/dev/gpt2/.env/lib/python3.9/site-packages/zmq/eventloop/zmqstream.py\", line 565, in _log_error\n",
      "    f.result()\n",
      "  File \"/home/rebs/dev/gpt2/.env/lib/python3.9/site-packages/ipykernel/kernelbase.py\", line 301, in dispatch_control\n",
      "    async with self._control_lock:\n",
      "  File \"/home/rebs/dev/gpt2/.env/lib/python3.9/site-packages/traitlets/traitlets.py\", line 687, in __get__\n",
      "    return t.cast(G, self.get(obj, cls))  # the G should encode the Optional\n",
      "  File \"/home/rebs/dev/gpt2/.env/lib/python3.9/site-packages/traitlets/traitlets.py\", line 649, in get\n",
      "    value = self._validate(obj, default)\n",
      "  File \"/home/rebs/dev/gpt2/.env/lib/python3.9/site-packages/traitlets/traitlets.py\", line 722, in _validate\n",
      "    value = self.validate(obj, value)\n",
      "  File \"/home/rebs/dev/gpt2/.env/lib/python3.9/site-packages/traitlets/traitlets.py\", line 2311, in validate\n",
      "    self.error(obj, value)\n",
      "  File \"/home/rebs/dev/gpt2/.env/lib/python3.9/site-packages/traitlets/traitlets.py\", line 831, in error\n",
      "    raise TraitError(e)\n",
      "traitlets.traitlets.TraitError: The '_control_lock' trait of an IPythonKernel instance expected a Lock, not the NoneType None.\n"
     ]
    },
    {
     "data": {
      "text/plain": [
       "True"
      ]
     },
     "execution_count": 1,
     "metadata": {},
     "output_type": "execute_result"
    }
   ],
   "source": [
    "import torch\n",
    "torch.cuda.is_available()"
   ]
  },
  {
   "cell_type": "code",
   "execution_count": 2,
   "id": "fa8abb69-8f18-4f0d-8979-97da61ae2896",
   "metadata": {},
   "outputs": [],
   "source": [
    "from dataclasses import dataclass\n",
    "import torch.nn as nn\n",
    "from torch.nn import functional as F\n",
    "import math"
   ]
  },
  {
   "cell_type": "code",
   "execution_count": 3,
   "id": "7bca158b-b73b-4bb2-a392-734af447de32",
   "metadata": {},
   "outputs": [],
   "source": [
    "import tiktoken"
   ]
  },
  {
   "cell_type": "markdown",
   "id": "9f39a0e9-6f41-4843-80d6-197ce674bd00",
   "metadata": {},
   "source": [
    "Sources\n",
    "- https://www.youtube.com/watch?v=l8pRSuU81PU&t=1839s&ab_channel=AndrejKarpathy"
   ]
  },
  {
   "cell_type": "code",
   "execution_count": 4,
   "id": "b6dc984b-0703-45aa-b666-5fba805d5339",
   "metadata": {},
   "outputs": [],
   "source": [
    "@dataclass\n",
    "class GPTConfig:\n",
    "    context_size: int = 1024\n",
    "    vocab_size: int = 50257\n",
    "    n_layer: int = 12\n",
    "    n_head: int = 12\n",
    "    n_embd: int = 768"
   ]
  },
  {
   "cell_type": "code",
   "execution_count": 68,
   "id": "6ace7ec4-76ad-43c0-88c7-ad51e59faee4",
   "metadata": {},
   "outputs": [],
   "source": [
    "class MultiHeadAttention(nn.Module):\n",
    "    def __init__(self, config):\n",
    "        super().__init__()\n",
    "        assert config.n_embd % config.n_head == 0\n",
    "\n",
    "        self.c_attn = nn.Linear(config.n_embd, 3 * config.n_embd)\n",
    "        self.c_proj = nn.Linear(config.n_embd, config.n_embd)\n",
    "        self.c_proj.GPT_SCALE_INIT = 1\n",
    "        self.n_head = config.n_head\n",
    "        self.n_embd = config.n_embd\n",
    "\n",
    "        self.register_buffer('bias', torch.tril(torch.ones(config.context_size, config.context_size))\n",
    "                                    .view(1, 1, config.context_size, config.context_size))\n",
    "\n",
    "    def forward(self, x):\n",
    "        b,t,c = x.size()\n",
    "        qkv = self.c_attn(x)\n",
    "        q,k,v = qkv.split(self.n_embd, dim=2)\n",
    "        q = q.view(b,t, self.n_head, c // self.n_head).transpose(1,2)\n",
    "        k = k.view(b,t, self.n_head, c // self.n_head).transpose(1,2)\n",
    "        v = v.view(b,t, self.n_head, c // self.n_head).transpose(1,2)\n",
    "\n",
    "        #att = (q @ k.transpose(-2, -1)) * (1.0 / math.sqrt(k.size(-1)))\n",
    "        #att = att.masked_fill(self.bias[:,:,:t,:t] == 0, float('-inf'))\n",
    "        #att = F.softmax(att, dim=-1)\n",
    "        #y = att @ v\n",
    "        y = F.scaled_dot_product_attention(q, k, v, is_causal=True)\n",
    "        y = y.transpose(1,2).contiguous().view(b,t,c)\n",
    "        y = self.c_proj(y)\n",
    "        return y"
   ]
  },
  {
   "cell_type": "code",
   "execution_count": 70,
   "id": "b20747d6-5619-492c-b8cf-74dba22aa134",
   "metadata": {},
   "outputs": [],
   "source": [
    "class MLP(nn.Module):\n",
    "    def __init__(self, config):\n",
    "        super().__init__()\n",
    "\n",
    "        self.c_fc = nn.Linear(config.n_embd, 4 * config.n_embd)\n",
    "        self.gelu = nn.GELU(approximate='tanh')\n",
    "        self.c_proj = nn.Linear(4 * config.n_embd, config.n_embd)\n",
    "        self.c_proj.GPT_SCALE_INIT = 1\n",
    "\n",
    "    def forward(self, x):\n",
    "        x = self.c_fc(x)\n",
    "        x = self.gelu(x)\n",
    "        x = self.c_proj(x)\n",
    "        return x"
   ]
  },
  {
   "cell_type": "code",
   "execution_count": 7,
   "id": "98935a61-af84-427a-99c0-0f8f3e838358",
   "metadata": {},
   "outputs": [],
   "source": [
    "class Block(nn.Module):\n",
    "    def __init__(self, config):\n",
    "        super().__init__()\n",
    "\n",
    "        self.ln_1 = nn.LayerNorm(config.n_embd)\n",
    "        self.attn = MultiHeadAttention(config)\n",
    "        self.ln_2 = nn.LayerNorm(config.n_embd)\n",
    "        self.mlp = MLP(config)\n",
    "\n",
    "    def forward(self, x):\n",
    "        x = x + self.attn(self.ln_1(x))\n",
    "        x = x + self.mlp(self.ln_2(x))\n",
    "        return x"
   ]
  },
  {
   "cell_type": "code",
   "execution_count": 71,
   "id": "08623bea-cbc1-4ee2-a5d7-a307a743d1fd",
   "metadata": {},
   "outputs": [],
   "source": [
    "class GPT(nn.Module):\n",
    "    def __init__(self, config):\n",
    "        super().__init__()\n",
    "        self.config = config\n",
    "\n",
    "        self.transformer = nn.ModuleDict(dict(\n",
    "            wte = nn.Embedding(config.vocab_size, config.n_embd), # weight token embedding\n",
    "            wpe = nn.Embedding(config.context_size, config.n_embd), # weight position embedding\n",
    "            h = nn.ModuleList([Block(config) for _ in range(config.n_layer)]),\n",
    "            ln_f = nn.LayerNorm(config.n_embd),\n",
    "        ))\n",
    "        self.lm_head = nn.Linear(config.n_embd, config.vocab_size, bias=False)\n",
    "\n",
    "        # weight sharing scheme\n",
    "        self.transformer.wte.weight = self.lm_head.weight\n",
    "\n",
    "        # initialize parameters\n",
    "        self.apply(self._init_weights)\n",
    "\n",
    "    def _init_weights(self, module):\n",
    "        if isinstance(module, nn.Linear):\n",
    "            std = 0.02\n",
    "            if hasattr(module,'GPT_SCALE_INIT'):\n",
    "                std *= (2 * self.config.n_layer) ** -0.5 # number of residual adds * number \n",
    "                # of layers 1/sqrt to clip scaling for each projection layer\n",
    "            torch.nn.init.normal_(module.weight, mean=0.0, std=std)\n",
    "            if module.bias is not None:\n",
    "                torch.nn.init.zeros_(module.bias)\n",
    "            elif isinstance(module, nn.Embedding):\n",
    "                torch.nn.init.normal_(module.weight, mean=0.0, std=std)\n",
    "\n",
    "    def forward(self, idx, targets=None):\n",
    "        b, t = idx.size()\n",
    "        assert t <= self.config.context_size, f\"sequence too long\"\n",
    "        pos = torch.arange(0, t, dtype=torch.long, device=idx.device)\n",
    "        pos_emb = self.transformer.wpe(pos)\n",
    "        tok_emb = self.transformer.wte(idx)\n",
    "        x = tok_emb + pos_emb\n",
    "        for block in self.transformer.h:\n",
    "            x = block(x)\n",
    "        x = self.transformer.ln_f(x)\n",
    "        logits = self.lm_head(x)\n",
    "        loss = None\n",
    "        if targets is not None:\n",
    "            loss = F.cross_entropy(logits.view(-1, logits.size(-1)), targets.view(-1))\n",
    "        return logits, loss\n",
    "\n",
    "    @classmethod\n",
    "    def from_pretrained(cls, model_type):\n",
    "        \"\"\"Loads pretrained GPT-2 model weights from huggingface\"\"\"\n",
    "        assert model_type in {'gpt2', 'gpt2-medium', 'gpt2-large', 'gpt2-xl'}\n",
    "        from transformers import GPT2LMHeadModel\n",
    "        print(\"loading weights from pretrained gpt: %s\" % model_type)\n",
    "\n",
    "        # n_layer, n_head and n_embd are determined from model_type\n",
    "        config_args = {\n",
    "            'gpt2':         dict(n_layer=12, n_head=12, n_embd=768),  # 124M params\n",
    "            'gpt2-medium':  dict(n_layer=24, n_head=16, n_embd=1024), # 350M params\n",
    "            'gpt2-large':   dict(n_layer=36, n_head=20, n_embd=1280), # 774M params\n",
    "            'gpt2-xl':      dict(n_layer=48, n_head=25, n_embd=1600), # 1558M params\n",
    "        }[model_type]\n",
    "        config_args['vocab_size'] = 50257 # always 50257 for GPT model checkpoints\n",
    "        config_args['context_size'] = 1024 # always 1024 for GPT model checkpoints\n",
    "        # create a from-scratch initialized minGPT model\n",
    "        config = GPTConfig(**config_args)\n",
    "        model = GPT(config)\n",
    "        sd = model.state_dict()\n",
    "        sd_keys = sd.keys()\n",
    "        sd_keys = [k for k in sd_keys if not k.endswith('.attn.bias')] # discard this mask / buffer, not a param\n",
    "\n",
    "        # init a huggingface/transformers model\n",
    "        model_hf = GPT2LMHeadModel.from_pretrained(model_type)\n",
    "        sd_hf = model_hf.state_dict()\n",
    "\n",
    "        # copy while ensuring all of the parameters are aligned and match in names and shapes\n",
    "        sd_keys_hf = sd_hf.keys()\n",
    "        sd_keys_hf = [k for k in sd_keys_hf if not k.endswith('.attn.masked_bias')] # ignore these, just a buffer\n",
    "        sd_keys_hf = [k for k in sd_keys_hf if not k.endswith('.attn.bias')] # same, just the mask (buffer)\n",
    "        transposed = ['attn.c_attn.weight', 'attn.c_proj.weight', 'mlp.c_fc.weight', 'mlp.c_proj.weight']\n",
    "        # basically the openai checkpoints use a \"Conv1D\" module, but we only want to use a vanilla Linear\n",
    "        # this means that we have to transpose these weights when we import them\n",
    "        assert len(sd_keys_hf) == len(sd_keys), f\"mismatched keys: {len(sd_keys_hf)} != {len(sd_keys)}\"\n",
    "        for k in sd_keys_hf:\n",
    "            if any(k.endswith(w) for w in transposed):\n",
    "                # special treatment for the Conv1D weights we need to transpose\n",
    "                assert sd_hf[k].shape[::-1] == sd[k].shape\n",
    "                with torch.no_grad():\n",
    "                    sd[k].copy_(sd_hf[k].t())\n",
    "            else:\n",
    "                # vanilla copy over the other parameters\n",
    "                assert sd_hf[k].shape == sd[k].shape\n",
    "                with torch.no_grad():\n",
    "                    sd[k].copy_(sd_hf[k])\n",
    "\n",
    "        return model"
   ]
  },
  {
   "cell_type": "code",
   "execution_count": 72,
   "id": "5fa3d0b8-6df5-48c6-994f-2d4e3513d25d",
   "metadata": {},
   "outputs": [],
   "source": [
    "#tokens = enc.encode(\"Hello, I'm a language model,\")\n",
    "#tokens = torch.tensor(tokens, dtype=torch.long)\n",
    "#tokens = tokens.unsqueeze(0).repeat(5, 1)\n",
    "#x = tokens.to('cuda')"
   ]
  },
  {
   "cell_type": "code",
   "execution_count": 73,
   "id": "52485a7b-bb32-4625-8c50-fc4b831abb6a",
   "metadata": {},
   "outputs": [],
   "source": [
    "#torch.save(model.state_dict(), './data/hugging_face_weights')"
   ]
  },
  {
   "cell_type": "code",
   "execution_count": 74,
   "id": "43c6d0c6-7c8a-4899-ae80-826b91288b19",
   "metadata": {},
   "outputs": [],
   "source": [
    "#model2 = GPT(GPTConfig())\n",
    "#model2.load_state_dict(torch.load('./data/hugging_face_weights', weights_only=True))\n",
    "#model2.eval()\n",
    "#model2.to('cuda')"
   ]
  },
  {
   "cell_type": "code",
   "execution_count": 75,
   "id": "beea3542-3350-45d9-b3be-30ea5c75bd2b",
   "metadata": {},
   "outputs": [],
   "source": [
    "class DataLoaderLite:\n",
    "    def __init__(self, b, t):\n",
    "        self.b = b\n",
    "        self.t = t\n",
    "\n",
    "        with open('./data/tiny_shakespeare.txt','r') as f: text = f.read()\n",
    "        enc = tiktoken.get_encoding('gpt2')\n",
    "        tokens = enc.encode(text)\n",
    "        self.tokens = torch.tensor(tokens)\n",
    "        print(f'loaded {len(self.tokens)} tokens')\n",
    "        print(f' 1 epoch = {len(self.tokens) // (b*t)} batches')\n",
    "\n",
    "        self.current_position = 0\n",
    "\n",
    "    def next_batch(self):\n",
    "        b, t = self.b, self.t\n",
    "        buf = self.tokens[self.current_position : self.current_position+b*t+1]\n",
    "        x = (buf[:-1]).view(b, t)\n",
    "        y = (buf[1:]).view(b, t)\n",
    "        self.current_position += b * t\n",
    "        if self.current_position + (b * t + 1) > len(self.tokens):\n",
    "            self.current_position = 0\n",
    "        return x, y"
   ]
  },
  {
   "cell_type": "code",
   "execution_count": 76,
   "id": "e302355b-5435-4fe7-b3da-2a4a1cd81e72",
   "metadata": {},
   "outputs": [
    {
     "name": "stdout",
     "output_type": "stream",
     "text": [
      "loaded 338024 tokens\n",
      " 1 epoch = 2640 batches\n"
     ]
    }
   ],
   "source": [
    "train_loader = DataLoaderLite(4, 32)"
   ]
  },
  {
   "cell_type": "code",
   "execution_count": 77,
   "id": "aeb05e62-85d6-4285-83ee-bab3b33a755d",
   "metadata": {},
   "outputs": [
    {
     "data": {
      "text/plain": [
       "GPT(\n",
       "  (transformer): ModuleDict(\n",
       "    (wte): Embedding(50257, 768)\n",
       "    (wpe): Embedding(1024, 768)\n",
       "    (h): ModuleList(\n",
       "      (0-11): 12 x Block(\n",
       "        (ln_1): LayerNorm((768,), eps=1e-05, elementwise_affine=True)\n",
       "        (attn): MultiHeadAttention(\n",
       "          (c_attn): Linear(in_features=768, out_features=2304, bias=True)\n",
       "          (c_proj): Linear(in_features=768, out_features=768, bias=True)\n",
       "        )\n",
       "        (ln_2): LayerNorm((768,), eps=1e-05, elementwise_affine=True)\n",
       "        (mlp): MLP(\n",
       "          (c_fc): Linear(in_features=768, out_features=3072, bias=True)\n",
       "          (gelu): GELU(approximate='tanh')\n",
       "          (c_proj): Linear(in_features=3072, out_features=768, bias=True)\n",
       "        )\n",
       "      )\n",
       "    )\n",
       "    (ln_f): LayerNorm((768,), eps=1e-05, elementwise_affine=True)\n",
       "  )\n",
       "  (lm_head): Linear(in_features=768, out_features=50257, bias=False)\n",
       ")"
      ]
     },
     "execution_count": 77,
     "metadata": {},
     "output_type": "execute_result"
    }
   ],
   "source": [
    "model = GPT(GPTConfig())\n",
    "model.to('cuda')"
   ]
  },
  {
   "cell_type": "code",
   "execution_count": 78,
   "id": "63ec3c11-a0ab-4c15-98b3-fb033431e17c",
   "metadata": {},
   "outputs": [],
   "source": [
    "optimizer = torch.optim.AdamW(model.parameters(), lr=3e-4)"
   ]
  },
  {
   "cell_type": "markdown",
   "id": "a0625ebf-915b-4263-80a8-bf5b643f55b8",
   "metadata": {},
   "source": [
    "default loss should be negative log likeliehood aka -ln(1/50257)"
   ]
  },
  {
   "cell_type": "code",
   "execution_count": 79,
   "id": "54f091b2-a330-48ae-ae94-8c9b4a063279",
   "metadata": {},
   "outputs": [
    {
     "name": "stdout",
     "output_type": "stream",
     "text": [
      "step 0, loss: 10.956216812133789\n",
      "step 1, loss: 9.832077026367188\n",
      "step 2, loss: 8.987883567810059\n",
      "step 3, loss: 9.051115036010742\n",
      "step 4, loss: 8.738351821899414\n",
      "step 5, loss: 8.28447151184082\n",
      "step 6, loss: 8.928132057189941\n",
      "step 7, loss: 8.827741622924805\n",
      "step 8, loss: 8.060985565185547\n",
      "step 9, loss: 7.874083042144775\n",
      "step 10, loss: 8.306632995605469\n",
      "step 11, loss: 7.3382415771484375\n",
      "step 12, loss: 7.704967021942139\n",
      "step 13, loss: 7.397910118103027\n",
      "step 14, loss: 7.546712875366211\n",
      "step 15, loss: 7.327558517456055\n",
      "step 16, loss: 7.449942588806152\n",
      "step 17, loss: 8.215373039245605\n",
      "step 18, loss: 7.140617370605469\n",
      "step 19, loss: 7.774016857147217\n",
      "step 20, loss: 7.4927520751953125\n",
      "step 21, loss: 7.800985336303711\n",
      "step 22, loss: 6.53911828994751\n",
      "step 23, loss: 6.895722389221191\n",
      "step 24, loss: 6.895887851715088\n",
      "step 25, loss: 6.736913681030273\n",
      "step 26, loss: 6.8208909034729\n",
      "step 27, loss: 7.683427810668945\n",
      "step 28, loss: 7.249087333679199\n",
      "step 29, loss: 7.107006549835205\n",
      "step 30, loss: 6.98016357421875\n",
      "step 31, loss: 7.357334136962891\n",
      "step 32, loss: 7.161554336547852\n",
      "step 33, loss: 7.126091003417969\n",
      "step 34, loss: 7.9406633377075195\n",
      "step 35, loss: 7.872372627258301\n",
      "step 36, loss: 7.7586259841918945\n",
      "step 37, loss: 7.773324966430664\n",
      "step 38, loss: 8.069931030273438\n",
      "step 39, loss: 7.507603168487549\n",
      "step 40, loss: 7.501799583435059\n",
      "step 41, loss: 7.008984565734863\n",
      "step 42, loss: 7.140988826751709\n",
      "step 43, loss: 7.1337761878967285\n",
      "step 44, loss: 7.123081684112549\n",
      "step 45, loss: 7.0623979568481445\n",
      "step 46, loss: 6.277162075042725\n",
      "step 47, loss: 6.456758499145508\n",
      "step 48, loss: 7.032430171966553\n",
      "step 49, loss: 6.840502738952637\n"
     ]
    }
   ],
   "source": [
    "for i in range(50):\n",
    "    x, y = train_loader.next_batch()\n",
    "    x, y = x.to('cuda'), y.to('cuda')\n",
    "    optimizer.zero_grad()\n",
    "    logits, loss = model(x, y)\n",
    "    loss.backward()\n",
    "    optimizer.step()\n",
    "    print(f'step {i}, loss: {loss.item()}')"
   ]
  },
  {
   "cell_type": "code",
   "execution_count": null,
   "id": "2631d72b-a493-4e37-8261-2b9b674840cb",
   "metadata": {},
   "outputs": [],
   "source": []
  }
 ],
 "metadata": {
  "kernelspec": {
   "display_name": "Python 3 (ipykernel)",
   "language": "python",
   "name": "python3"
  },
  "language_info": {
   "codemirror_mode": {
    "name": "ipython",
    "version": 3
   },
   "file_extension": ".py",
   "mimetype": "text/x-python",
   "name": "python",
   "nbconvert_exporter": "python",
   "pygments_lexer": "ipython3",
   "version": "3.9.23"
  }
 },
 "nbformat": 4,
 "nbformat_minor": 5
}
