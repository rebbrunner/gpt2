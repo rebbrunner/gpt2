{
 "cells": [
  {
   "cell_type": "code",
   "execution_count": 1,
   "id": "205fd305-eb40-4068-95b4-8953b6fa3e52",
   "metadata": {},
   "outputs": [
    {
     "name": "stderr",
     "output_type": "stream",
     "text": [
      "ERROR:tornado.general:Uncaught exception in ZMQStream callback\n",
      "Traceback (most recent call last):\n",
      "  File \"/home/rebs/dev/gpt2/.env/lib/python3.9/site-packages/traitlets/traitlets.py\", line 632, in get\n",
      "    value = obj._trait_values[self.name]\n",
      "KeyError: '_control_lock'\n",
      "\n",
      "During handling of the above exception, another exception occurred:\n",
      "\n",
      "Traceback (most recent call last):\n",
      "  File \"/home/rebs/dev/gpt2/.env/lib/python3.9/site-packages/zmq/eventloop/zmqstream.py\", line 565, in _log_error\n",
      "    f.result()\n",
      "  File \"/home/rebs/dev/gpt2/.env/lib/python3.9/site-packages/ipykernel/kernelbase.py\", line 301, in dispatch_control\n",
      "    async with self._control_lock:\n",
      "  File \"/home/rebs/dev/gpt2/.env/lib/python3.9/site-packages/traitlets/traitlets.py\", line 687, in __get__\n",
      "    return t.cast(G, self.get(obj, cls))  # the G should encode the Optional\n",
      "  File \"/home/rebs/dev/gpt2/.env/lib/python3.9/site-packages/traitlets/traitlets.py\", line 649, in get\n",
      "    value = self._validate(obj, default)\n",
      "  File \"/home/rebs/dev/gpt2/.env/lib/python3.9/site-packages/traitlets/traitlets.py\", line 722, in _validate\n",
      "    value = self.validate(obj, value)\n",
      "  File \"/home/rebs/dev/gpt2/.env/lib/python3.9/site-packages/traitlets/traitlets.py\", line 2311, in validate\n",
      "    self.error(obj, value)\n",
      "  File \"/home/rebs/dev/gpt2/.env/lib/python3.9/site-packages/traitlets/traitlets.py\", line 831, in error\n",
      "    raise TraitError(e)\n",
      "traitlets.traitlets.TraitError: The '_control_lock' trait of an IPythonKernel instance expected a Lock, not the NoneType None.\n"
     ]
    },
    {
     "data": {
      "text/plain": [
       "True"
      ]
     },
     "execution_count": 1,
     "metadata": {},
     "output_type": "execute_result"
    }
   ],
   "source": [
    "import torch\n",
    "torch.cuda.is_available()"
   ]
  },
  {
   "cell_type": "code",
   "execution_count": 2,
   "id": "fa8abb69-8f18-4f0d-8979-97da61ae2896",
   "metadata": {},
   "outputs": [],
   "source": [
    "from dataclasses import dataclass\n",
    "import torch.nn as nn\n",
    "from torch.nn import functional as F\n",
    "import math"
   ]
  },
  {
   "cell_type": "code",
   "execution_count": 3,
   "id": "7bca158b-b73b-4bb2-a392-734af447de32",
   "metadata": {},
   "outputs": [],
   "source": [
    "import tiktoken, time, inspect"
   ]
  },
  {
   "cell_type": "markdown",
   "id": "9f39a0e9-6f41-4843-80d6-197ce674bd00",
   "metadata": {},
   "source": [
    "Sources\n",
    "- https://www.youtube.com/watch?v=l8pRSuU81PU&t=1839s&ab_channel=AndrejKarpathy"
   ]
  },
  {
   "cell_type": "code",
   "execution_count": 4,
   "id": "b6dc984b-0703-45aa-b666-5fba805d5339",
   "metadata": {},
   "outputs": [],
   "source": [
    "@dataclass\n",
    "class GPTConfig:\n",
    "    context_size: int = 1024\n",
    "    vocab_size: int = 50257\n",
    "    n_layer: int = 12\n",
    "    n_head: int = 12\n",
    "    n_embd: int = 768"
   ]
  },
  {
   "cell_type": "code",
   "execution_count": 5,
   "id": "6ace7ec4-76ad-43c0-88c7-ad51e59faee4",
   "metadata": {},
   "outputs": [],
   "source": [
    "class MultiHeadAttention(nn.Module):\n",
    "    def __init__(self, config):\n",
    "        super().__init__()\n",
    "        assert config.n_embd % config.n_head == 0\n",
    "\n",
    "        self.c_attn = nn.Linear(config.n_embd, 3 * config.n_embd)\n",
    "        self.c_proj = nn.Linear(config.n_embd, config.n_embd)\n",
    "        self.c_proj.GPT_SCALE_INIT = 1\n",
    "        self.n_head = config.n_head\n",
    "        self.n_embd = config.n_embd\n",
    "\n",
    "        self.register_buffer('bias', torch.tril(torch.ones(config.context_size, config.context_size))\n",
    "                                    .view(1, 1, config.context_size, config.context_size))\n",
    "\n",
    "    def forward(self, x):\n",
    "        b,t,c = x.size()\n",
    "        qkv = self.c_attn(x)\n",
    "        q,k,v = qkv.split(self.n_embd, dim=2)\n",
    "        q = q.view(b,t, self.n_head, c // self.n_head).transpose(1,2)\n",
    "        k = k.view(b,t, self.n_head, c // self.n_head).transpose(1,2)\n",
    "        v = v.view(b,t, self.n_head, c // self.n_head).transpose(1,2)\n",
    "\n",
    "        #att = (q @ k.transpose(-2, -1)) * (1.0 / math.sqrt(k.size(-1)))\n",
    "        #att = att.masked_fill(self.bias[:,:,:t,:t] == 0, float('-inf'))\n",
    "        #att = F.softmax(att, dim=-1)\n",
    "        #y = att @ v\n",
    "        y = F.scaled_dot_product_attention(q, k, v, is_causal=True)\n",
    "        y = y.transpose(1,2).contiguous().view(b,t,c)\n",
    "        y = self.c_proj(y)\n",
    "        return y"
   ]
  },
  {
   "cell_type": "code",
   "execution_count": 6,
   "id": "b20747d6-5619-492c-b8cf-74dba22aa134",
   "metadata": {},
   "outputs": [],
   "source": [
    "class MLP(nn.Module):\n",
    "    def __init__(self, config):\n",
    "        super().__init__()\n",
    "\n",
    "        self.c_fc = nn.Linear(config.n_embd, 4 * config.n_embd)\n",
    "        self.gelu = nn.GELU(approximate='tanh')\n",
    "        self.c_proj = nn.Linear(4 * config.n_embd, config.n_embd)\n",
    "        self.c_proj.GPT_SCALE_INIT = 1\n",
    "\n",
    "    def forward(self, x):\n",
    "        x = self.c_fc(x)\n",
    "        x = self.gelu(x)\n",
    "        x = self.c_proj(x)\n",
    "        return x"
   ]
  },
  {
   "cell_type": "code",
   "execution_count": 7,
   "id": "98935a61-af84-427a-99c0-0f8f3e838358",
   "metadata": {},
   "outputs": [],
   "source": [
    "class Block(nn.Module):\n",
    "    def __init__(self, config):\n",
    "        super().__init__()\n",
    "\n",
    "        self.ln_1 = nn.LayerNorm(config.n_embd)\n",
    "        self.attn = MultiHeadAttention(config)\n",
    "        self.ln_2 = nn.LayerNorm(config.n_embd)\n",
    "        self.mlp = MLP(config)\n",
    "\n",
    "    def forward(self, x):\n",
    "        x = x + self.attn(self.ln_1(x))\n",
    "        x = x + self.mlp(self.ln_2(x))\n",
    "        return x"
   ]
  },
  {
   "cell_type": "code",
   "execution_count": 8,
   "id": "08623bea-cbc1-4ee2-a5d7-a307a743d1fd",
   "metadata": {},
   "outputs": [],
   "source": [
    "class GPT(nn.Module):\n",
    "    def __init__(self, config):\n",
    "        super().__init__()\n",
    "        self.config = config\n",
    "\n",
    "        self.transformer = nn.ModuleDict(dict(\n",
    "            wte = nn.Embedding(config.vocab_size, config.n_embd), # weight token embedding\n",
    "            wpe = nn.Embedding(config.context_size, config.n_embd), # weight position embedding\n",
    "            h = nn.ModuleList([Block(config) for _ in range(config.n_layer)]),\n",
    "            ln_f = nn.LayerNorm(config.n_embd),\n",
    "        ))\n",
    "        self.lm_head = nn.Linear(config.n_embd, config.vocab_size, bias=False)\n",
    "\n",
    "        # weight sharing scheme\n",
    "        self.transformer.wte.weight = self.lm_head.weight\n",
    "\n",
    "        # initialize parameters\n",
    "        self.apply(self._init_weights)\n",
    "\n",
    "    def _init_weights(self, module):\n",
    "        if isinstance(module, nn.Linear):\n",
    "            std = 0.02\n",
    "            if hasattr(module,'GPT_SCALE_INIT'):\n",
    "                std *= (2 * self.config.n_layer) ** -0.5 # number of residual adds * number \n",
    "                # of layers 1/sqrt to clip scaling for each projection layer\n",
    "            torch.nn.init.normal_(module.weight, mean=0.0, std=std)\n",
    "            if module.bias is not None:\n",
    "                torch.nn.init.zeros_(module.bias)\n",
    "            elif isinstance(module, nn.Embedding):\n",
    "                torch.nn.init.normal_(module.weight, mean=0.0, std=std)\n",
    "\n",
    "    def forward(self, idx, targets=None):\n",
    "        b, t = idx.size()\n",
    "        assert t <= self.config.context_size, f\"sequence too long\"\n",
    "        pos = torch.arange(0, t, dtype=torch.long, device=idx.device)\n",
    "        pos_emb = self.transformer.wpe(pos)\n",
    "        tok_emb = self.transformer.wte(idx)\n",
    "        x = tok_emb + pos_emb\n",
    "        for block in self.transformer.h:\n",
    "            x = block(x)\n",
    "        x = self.transformer.ln_f(x)\n",
    "        logits = self.lm_head(x)\n",
    "        loss = None\n",
    "        if targets is not None:\n",
    "            loss = F.cross_entropy(logits.view(-1, logits.size(-1)), targets.view(-1))\n",
    "        return logits, loss\n",
    "\n",
    "    def configure_optimizer(self, weight_decay, lr, device):\n",
    "        param_dict = {pn: p for pn, p in self.named_parameters()}\n",
    "        param_dict = {pn: p for pn, p in param_dict.items() if p.requires_grad}\n",
    "\n",
    "        decay_params = [p for n, p in param_dict.items() if p.dim() >= 2]\n",
    "        nodecay_params = [p for n, p in param_dict.items() if p.dim() < 2]\n",
    "        optim_groups = [\n",
    "            {'params': decay_params, 'weight_decay': weight_decay},\n",
    "            {'params': nodecay_params, 'weight_decay': 0.0}\n",
    "        ]\n",
    "        num_decay_params = sum(p.numel() for p in decay_params)\n",
    "        num_nodecay_params = sum(p.numel() for p in nodecay_params)\n",
    "        print(f'num decay param tensors: {len(decay_params)}, with {num_decay_params:,} parameters')\n",
    "        print(f'num non-decayed param tensors: {len(nodecay_params)}, with {num_nodecay_params:,} parameters')\n",
    "        fused_available = 'fused' in inspect.signature(torch.optim.AdamW).parameters\n",
    "        use_fused = fused_available and 'cuda' in device\n",
    "        print(f'using fused AdamW: {use_fused}')\n",
    "        optimizer = torch.optim.AdamW(optim_groups, lr=lr, betas=(0.9, 0.95), eps=1e-8, fused=use_fused)\n",
    "        return optimizer\n",
    "\n",
    "    @classmethod\n",
    "    def from_pretrained(cls, model_type):\n",
    "        \"\"\"Loads pretrained GPT-2 model weights from huggingface\"\"\"\n",
    "        assert model_type in {'gpt2', 'gpt2-medium', 'gpt2-large', 'gpt2-xl'}\n",
    "        from transformers import GPT2LMHeadModel\n",
    "        print(\"loading weights from pretrained gpt: %s\" % model_type)\n",
    "\n",
    "        # n_layer, n_head and n_embd are determined from model_type\n",
    "        config_args = {\n",
    "            'gpt2':         dict(n_layer=12, n_head=12, n_embd=768),  # 124M params\n",
    "            'gpt2-medium':  dict(n_layer=24, n_head=16, n_embd=1024), # 350M params\n",
    "            'gpt2-large':   dict(n_layer=36, n_head=20, n_embd=1280), # 774M params\n",
    "            'gpt2-xl':      dict(n_layer=48, n_head=25, n_embd=1600), # 1558M params\n",
    "        }[model_type]\n",
    "        config_args['vocab_size'] = 50257 # always 50257 for GPT model checkpoints\n",
    "        config_args['context_size'] = 1024 # always 1024 for GPT model checkpoints\n",
    "        # create a from-scratch initialized minGPT model\n",
    "        config = GPTConfig(**config_args)\n",
    "        model = GPT(config)\n",
    "        sd = model.state_dict()\n",
    "        sd_keys = sd.keys()\n",
    "        sd_keys = [k for k in sd_keys if not k.endswith('.attn.bias')] # discard this mask / buffer, not a param\n",
    "\n",
    "        # init a huggingface/transformers model\n",
    "        model_hf = GPT2LMHeadModel.from_pretrained(model_type)\n",
    "        sd_hf = model_hf.state_dict()\n",
    "\n",
    "        # copy while ensuring all of the parameters are aligned and match in names and shapes\n",
    "        sd_keys_hf = sd_hf.keys()\n",
    "        sd_keys_hf = [k for k in sd_keys_hf if not k.endswith('.attn.masked_bias')] # ignore these, just a buffer\n",
    "        sd_keys_hf = [k for k in sd_keys_hf if not k.endswith('.attn.bias')] # same, just the mask (buffer)\n",
    "        transposed = ['attn.c_attn.weight', 'attn.c_proj.weight', 'mlp.c_fc.weight', 'mlp.c_proj.weight']\n",
    "        # basically the openai checkpoints use a \"Conv1D\" module, but we only want to use a vanilla Linear\n",
    "        # this means that we have to transpose these weights when we import them\n",
    "        assert len(sd_keys_hf) == len(sd_keys), f\"mismatched keys: {len(sd_keys_hf)} != {len(sd_keys)}\"\n",
    "        for k in sd_keys_hf:\n",
    "            if any(k.endswith(w) for w in transposed):\n",
    "                # special treatment for the Conv1D weights we need to transpose\n",
    "                assert sd_hf[k].shape[::-1] == sd[k].shape\n",
    "                with torch.no_grad():\n",
    "                    sd[k].copy_(sd_hf[k].t())\n",
    "            else:\n",
    "                # vanilla copy over the other parameters\n",
    "                assert sd_hf[k].shape == sd[k].shape\n",
    "                with torch.no_grad():\n",
    "                    sd[k].copy_(sd_hf[k])\n",
    "\n",
    "        return model"
   ]
  },
  {
   "cell_type": "code",
   "execution_count": 9,
   "id": "5fa3d0b8-6df5-48c6-994f-2d4e3513d25d",
   "metadata": {},
   "outputs": [],
   "source": [
    "#tokens = enc.encode(\"Hello, I'm a language model,\")\n",
    "#tokens = torch.tensor(tokens, dtype=torch.long)\n",
    "#tokens = tokens.unsqueeze(0).repeat(5, 1)\n",
    "#x = tokens.to('cuda')"
   ]
  },
  {
   "cell_type": "code",
   "execution_count": 10,
   "id": "52485a7b-bb32-4625-8c50-fc4b831abb6a",
   "metadata": {},
   "outputs": [],
   "source": [
    "#torch.save(model.state_dict(), './data/hugging_face_weights')"
   ]
  },
  {
   "cell_type": "code",
   "execution_count": 11,
   "id": "43c6d0c6-7c8a-4899-ae80-826b91288b19",
   "metadata": {},
   "outputs": [],
   "source": [
    "#model2 = GPT(GPTConfig())\n",
    "#model2.load_state_dict(torch.load('./data/hugging_face_weights', weights_only=True))\n",
    "#model2.eval()\n",
    "#model2.to('cuda')"
   ]
  },
  {
   "cell_type": "code",
   "execution_count": 12,
   "id": "beea3542-3350-45d9-b3be-30ea5c75bd2b",
   "metadata": {},
   "outputs": [],
   "source": [
    "class DataLoaderLite:\n",
    "    def __init__(self, b, t):\n",
    "        self.b = b\n",
    "        self.t = t\n",
    "\n",
    "        with open('./data/tiny_shakespeare.txt','r') as f: text = f.read()\n",
    "        enc = tiktoken.get_encoding('gpt2')\n",
    "        tokens = enc.encode(text)\n",
    "        self.tokens = torch.tensor(tokens)\n",
    "        print(f'loaded {len(self.tokens)} tokens')\n",
    "        print(f' 1 epoch = {len(self.tokens) // (b*t)} batches')\n",
    "\n",
    "        self.current_position = 0\n",
    "\n",
    "    def next_batch(self):\n",
    "        b, t = self.b, self.t\n",
    "        buf = self.tokens[self.current_position : self.current_position+b*t+1]\n",
    "        x = (buf[:-1]).view(b, t)\n",
    "        y = (buf[1:]).view(b, t)\n",
    "        self.current_position += b * t\n",
    "        if self.current_position + (b * t + 1) > len(self.tokens):\n",
    "            self.current_position = 0\n",
    "        return x, y"
   ]
  },
  {
   "cell_type": "code",
   "execution_count": 13,
   "id": "a3d7cbab-9ec8-4639-b16b-c33bacefdfd5",
   "metadata": {},
   "outputs": [
    {
     "name": "stdout",
     "output_type": "stream",
     "text": [
      "total desired batch size: 524288\n",
      "calculated gradient accumulation steps: 128\n"
     ]
    }
   ],
   "source": [
    "total_batch_size = 524288\n",
    "b = 4\n",
    "t = 1024\n",
    "assert total_batch_size % (b * t) == 0\n",
    "grad_accum_steps = total_batch_size // (b * t)\n",
    "print(f'total desired batch size: {total_batch_size}')\n",
    "print(f'calculated gradient accumulation steps: {grad_accum_steps}')"
   ]
  },
  {
   "cell_type": "code",
   "execution_count": 14,
   "id": "e302355b-5435-4fe7-b3da-2a4a1cd81e72",
   "metadata": {},
   "outputs": [
    {
     "name": "stdout",
     "output_type": "stream",
     "text": [
      "loaded 338024 tokens\n",
      " 1 epoch = 82 batches\n"
     ]
    }
   ],
   "source": [
    "train_loader = DataLoaderLite(4, 1024)\n",
    "torch.set_float32_matmul_precision('high')"
   ]
  },
  {
   "cell_type": "code",
   "execution_count": 15,
   "id": "bff42c07-6523-4b0a-bc2f-d093c397921f",
   "metadata": {},
   "outputs": [],
   "source": [
    "epochs = 50\n",
    "max_lr=6e-4\n",
    "min_lr = max_lr * 0.1\n",
    "warmup_steps = 10\n",
    "max_steps = 50"
   ]
  },
  {
   "cell_type": "code",
   "execution_count": 16,
   "id": "777d6a52-adbb-45d4-b0ae-854b98648a0e",
   "metadata": {},
   "outputs": [],
   "source": [
    "def cosine_lr_scheduler(it):\n",
    "    if it < warmup_steps:\n",
    "        return max_lr * (it+1) / warmup_steps\n",
    "    if it > max_steps:\n",
    "        return min_lr\n",
    "    decay_ratio = (it - warmup_steps) / (max_steps - warmup_steps)\n",
    "    assert 0 <= decay_ratio <= 1\n",
    "    coeff = 0.5 * (1.0 + math.cos(math.pi * decay_ratio))\n",
    "    return min_lr + coeff * (max_lr - min_lr)"
   ]
  },
  {
   "cell_type": "code",
   "execution_count": 17,
   "id": "aeb05e62-85d6-4285-83ee-bab3b33a755d",
   "metadata": {},
   "outputs": [],
   "source": [
    "model = GPT(GPTConfig(vocab_size=50304))\n",
    "model.to('cuda')\n",
    "model = torch.compile(model)"
   ]
  },
  {
   "cell_type": "code",
   "execution_count": 18,
   "id": "63ec3c11-a0ab-4c15-98b3-fb033431e17c",
   "metadata": {},
   "outputs": [
    {
     "name": "stdout",
     "output_type": "stream",
     "text": [
      "num decay param tensors: 50, with 124,354,560 parameters\n",
      "num non-decayed param tensors: 98, with 121,344 parameters\n",
      "using fused AdamW: True\n"
     ]
    }
   ],
   "source": [
    "optimizer = model.configure_optimizer(weight_decay=0.1, lr=6e-4, device='cuda')\n",
    "scheduler = torch.optim.lr_scheduler.CosineAnnealingLR(optimizer, epochs, min_lr)"
   ]
  },
  {
   "cell_type": "markdown",
   "id": "a0625ebf-915b-4263-80a8-bf5b643f55b8",
   "metadata": {},
   "source": [
    "default loss should be negative log likeliehood aka -ln(1/50257)"
   ]
  },
  {
   "cell_type": "code",
   "execution_count": 19,
   "id": "54f091b2-a330-48ae-ae94-8c9b4a063279",
   "metadata": {},
   "outputs": [
    {
     "name": "stdout",
     "output_type": "stream",
     "text": [
      "step 0, loss: 10.991944, dt: 14036.91ms, tok/sec: 37350.66, norm: 0.01455856952816248,\n",
      "step 1, loss: 9.405560, dt: 10525.23ms, tok/sec: 49812.48, norm: 0.023186467587947845,\n",
      "step 2, loss: 9.504640, dt: 10315.66ms, tok/sec: 50824.49, norm: 0.05163347348570824,\n",
      "step 3, loss: 8.632456, dt: 10444.66ms, tok/sec: 50196.74, norm: 0.030247343704104424,\n",
      "step 4, loss: 8.153276, dt: 10488.29ms, tok/sec: 49987.94, norm: 0.017041265964508057,\n",
      "step 5, loss: 7.916348, dt: 10413.07ms, tok/sec: 50349.04, norm: 0.04731829836964607,\n",
      "step 6, loss: 7.540127, dt: 10498.65ms, tok/sec: 49938.60, norm: 0.03330451250076294,\n",
      "step 7, loss: 7.204453, dt: 10524.98ms, tok/sec: 49813.69, norm: 0.012596865184605122,\n",
      "step 8, loss: 7.026762, dt: 10520.72ms, tok/sec: 49833.84, norm: 0.016379987820982933,\n",
      "step 9, loss: 6.919956, dt: 10503.17ms, tok/sec: 49917.14, norm: 0.021131353452801704,\n",
      "step 10, loss: 6.826368, dt: 10480.86ms, tok/sec: 50023.36, norm: 0.021425632759928703,\n",
      "step 11, loss: 6.761183, dt: 10484.37ms, tok/sec: 50006.62, norm: 0.02085166797041893,\n",
      "step 12, loss: 6.678228, dt: 10512.72ms, tok/sec: 49871.76, norm: 0.015324863605201244,\n",
      "step 13, loss: 6.658476, dt: 10482.33ms, tok/sec: 50016.37, norm: 0.017021238803863525,\n",
      "step 14, loss: 6.625183, dt: 10481.60ms, tok/sec: 50019.84, norm: 0.012130617164075375,\n",
      "step 15, loss: 6.616812, dt: 10497.48ms, tok/sec: 49944.15, norm: 0.013497336767613888,\n",
      "step 16, loss: 6.618463, dt: 10537.25ms, tok/sec: 49755.67, norm: 0.009457997046411037,\n",
      "step 17, loss: 6.618449, dt: 10536.58ms, tok/sec: 49758.86, norm: 0.012908044271171093,\n",
      "step 18, loss: 6.626997, dt: 10345.75ms, tok/sec: 50676.66, norm: 0.017810026183724403,\n",
      "step 19, loss: 6.606039, dt: 10484.47ms, tok/sec: 50006.14, norm: 0.018698368221521378,\n",
      "step 20, loss: 6.623878, dt: 10484.37ms, tok/sec: 50006.62, norm: 0.017963293939828873,\n",
      "step 21, loss: 6.583322, dt: 10486.80ms, tok/sec: 49995.03, norm: 0.017636658623814583,\n",
      "step 22, loss: 6.578328, dt: 10483.85ms, tok/sec: 50009.10, norm: 0.009879284538328648,\n",
      "step 23, loss: 6.564552, dt: 10548.60ms, tok/sec: 49702.14, norm: 0.009693584404885769,\n",
      "step 24, loss: 6.556582, dt: 10677.00ms, tok/sec: 49104.45, norm: 0.008900872431695461,\n",
      "step 25, loss: 6.550946, dt: 10573.32ms, tok/sec: 49585.95, norm: 0.010767792351543903,\n",
      "step 26, loss: 6.538404, dt: 10577.63ms, tok/sec: 49565.73, norm: 0.011329377070069313,\n",
      "step 27, loss: 6.548010, dt: 10563.51ms, tok/sec: 49631.97, norm: 0.010852684266865253,\n",
      "step 28, loss: 6.511425, dt: 10487.76ms, tok/sec: 49990.48, norm: 0.014475760981440544,\n",
      "step 29, loss: 6.534324, dt: 10487.63ms, tok/sec: 49991.08, norm: 0.013205938041210175,\n",
      "step 30, loss: 6.505159, dt: 10504.45ms, tok/sec: 49911.01, norm: 0.010649600997567177,\n",
      "step 31, loss: 6.498780, dt: 10474.76ms, tok/sec: 50052.51, norm: 0.008535468019545078,\n",
      "step 32, loss: 6.496642, dt: 10474.40ms, tok/sec: 50054.24, norm: 0.006375198718160391,\n",
      "step 33, loss: 6.484911, dt: 10492.78ms, tok/sec: 49966.54, norm: 0.011323817074298859,\n",
      "step 34, loss: 6.484726, dt: 10496.71ms, tok/sec: 49947.85, norm: 0.0064077312126755714,\n",
      "step 35, loss: 6.470584, dt: 10474.95ms, tok/sec: 50051.58, norm: 0.007425129413604736,\n",
      "step 36, loss: 6.489154, dt: 10512.95ms, tok/sec: 49870.67, norm: 0.006063873879611492,\n",
      "step 37, loss: 6.460068, dt: 10475.56ms, tok/sec: 50048.66, norm: 0.008588201366364956,\n",
      "step 38, loss: 6.477479, dt: 10483.87ms, tok/sec: 50009.03, norm: 0.006387551315128803,\n",
      "step 39, loss: 6.464439, dt: 10477.20ms, tok/sec: 50040.87, norm: 0.007801736705005169,\n",
      "step 40, loss: 6.461670, dt: 10486.94ms, tok/sec: 49994.36, norm: 0.006864312570542097,\n",
      "step 41, loss: 6.462029, dt: 10512.74ms, tok/sec: 49871.68, norm: 0.008347567170858383,\n",
      "step 42, loss: 6.450898, dt: 10504.23ms, tok/sec: 49912.10, norm: 0.007581763435155153,\n",
      "step 43, loss: 6.461026, dt: 10387.71ms, tok/sec: 50471.95, norm: 0.006421697326004505,\n",
      "step 44, loss: 6.441326, dt: 10486.69ms, tok/sec: 49995.57, norm: 0.006425286177545786,\n",
      "step 45, loss: 6.464568, dt: 10482.46ms, tok/sec: 50015.76, norm: 0.0068277823738753796,\n",
      "step 46, loss: 6.446022, dt: 10480.94ms, tok/sec: 50023.01, norm: 0.006196950562298298,\n",
      "step 47, loss: 6.449186, dt: 10420.63ms, tok/sec: 50312.52, norm: 0.0060944571159780025,\n",
      "step 48, loss: 6.445785, dt: 10210.06ms, tok/sec: 51350.13, norm: 0.006924863439053297,\n",
      "step 49, loss: 6.447937, dt: 10194.92ms, tok/sec: 51426.42, norm: 0.007671860512346029,\n"
     ]
    }
   ],
   "source": [
    "for i in range(epochs):\n",
    "    t0 = time.time()\n",
    "    loss_accum = 0.0\n",
    "    for step in range(grad_accum_steps):\n",
    "        x, y = train_loader.next_batch()\n",
    "        x, y = x.to('cuda'), y.to('cuda')\n",
    "        optimizer.zero_grad()\n",
    "        with torch.autocast(device_type='cuda', dtype=torch.bfloat16):\n",
    "            logits, loss = model(x, y)\n",
    "        loss = loss / grad_accum_steps\n",
    "        loss_accum += loss.detach()\n",
    "        loss.backward()\n",
    "    norm = torch.nn.utils.clip_grad_norm_(model.parameters(),1.0)\n",
    "    #lr = cosine_lr_scheduler(i)\n",
    "    #for param_group in optimizer.param_groups:\n",
    "    #    param_group['lr'] = lr\n",
    "    optimizer.step()\n",
    "    scheduler.step()\n",
    "    torch.cuda.synchronize()\n",
    "    t1 = time.time()\n",
    "    dt = (t1 - t0) * 1000\n",
    "    tokens_processed = train_loader.b * train_loader.t * grad_accum_steps\n",
    "    tokens_per_sec = tokens_processed / (t1-t0)\n",
    "    print(f'step {i}, loss: {loss_accum.item():.6f}, dt: {dt:.2f}ms, tok/sec: {tokens_per_sec:.2f}, norm: {norm},')"
   ]
  },
  {
   "cell_type": "markdown",
   "id": "845966e4-64b7-4178-bd6e-75c9b1922ee4",
   "metadata": {},
   "source": [
    "### speedups\n",
    "\n",
    "- matmul precision\n",
    "- change type to bfloat16\n",
    "- torch.compile\n",
    "- deal with \"ugly\" numbers\n",
    "- switch to flash attention"
   ]
  },
  {
   "cell_type": "markdown",
   "id": "08abd992-c062-4867-9820-4c6fcfc1aff2",
   "metadata": {},
   "source": [
    "### hyper parameter tuning\n",
    "- gradient clipping\n",
    "- cosine decay learning rate scheduler with warmup\n",
    "- optimizer weight decay\n",
    "- gradient accumulation\n",
    "- Distributed Data Parallel"
   ]
  },
  {
   "cell_type": "code",
   "execution_count": null,
   "id": "8556ed00-e7fb-4d0e-a104-cffd12a4e871",
   "metadata": {},
   "outputs": [],
   "source": []
  }
 ],
 "metadata": {
  "kernelspec": {
   "display_name": "Python 3 (ipykernel)",
   "language": "python",
   "name": "python3"
  },
  "language_info": {
   "codemirror_mode": {
    "name": "ipython",
    "version": 3
   },
   "file_extension": ".py",
   "mimetype": "text/x-python",
   "name": "python",
   "nbconvert_exporter": "python",
   "pygments_lexer": "ipython3",
   "version": "3.9.23"
  }
 },
 "nbformat": 4,
 "nbformat_minor": 5
}
