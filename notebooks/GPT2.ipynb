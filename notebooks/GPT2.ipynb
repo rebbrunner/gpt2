{
 "cells": [
  {
   "cell_type": "code",
   "execution_count": 1,
   "id": "205fd305-eb40-4068-95b4-8953b6fa3e52",
   "metadata": {},
   "outputs": [
    {
     "data": {
      "text/plain": [
       "True"
      ]
     },
     "execution_count": 1,
     "metadata": {},
     "output_type": "execute_result"
    }
   ],
   "source": [
    "import torch\n",
    "torch.cuda.is_available()"
   ]
  },
  {
   "cell_type": "code",
   "execution_count": 2,
   "id": "fa8abb69-8f18-4f0d-8979-97da61ae2896",
   "metadata": {},
   "outputs": [],
   "source": [
    "from dataclasses import dataclass\n",
    "import torch.nn as nn\n",
    "from torch.nn import functional as F\n",
    "import math"
   ]
  },
  {
   "cell_type": "code",
   "execution_count": 39,
   "id": "7bca158b-b73b-4bb2-a392-734af447de32",
   "metadata": {},
   "outputs": [],
   "source": [
    "import tiktoken, time, inspect"
   ]
  },
  {
   "cell_type": "markdown",
   "id": "9f39a0e9-6f41-4843-80d6-197ce674bd00",
   "metadata": {},
   "source": [
    "Sources\n",
    "- https://www.youtube.com/watch?v=l8pRSuU81PU&t=1839s&ab_channel=AndrejKarpathy"
   ]
  },
  {
   "cell_type": "code",
   "execution_count": 4,
   "id": "b6dc984b-0703-45aa-b666-5fba805d5339",
   "metadata": {},
   "outputs": [],
   "source": [
    "@dataclass\n",
    "class GPTConfig:\n",
    "    context_size: int = 1024\n",
    "    vocab_size: int = 50257\n",
    "    n_layer: int = 12\n",
    "    n_head: int = 12\n",
    "    n_embd: int = 768"
   ]
  },
  {
   "cell_type": "code",
   "execution_count": 5,
   "id": "6ace7ec4-76ad-43c0-88c7-ad51e59faee4",
   "metadata": {},
   "outputs": [],
   "source": [
    "class MultiHeadAttention(nn.Module):\n",
    "    def __init__(self, config):\n",
    "        super().__init__()\n",
    "        assert config.n_embd % config.n_head == 0\n",
    "\n",
    "        self.c_attn = nn.Linear(config.n_embd, 3 * config.n_embd)\n",
    "        self.c_proj = nn.Linear(config.n_embd, config.n_embd)\n",
    "        self.c_proj.GPT_SCALE_INIT = 1\n",
    "        self.n_head = config.n_head\n",
    "        self.n_embd = config.n_embd\n",
    "\n",
    "        self.register_buffer('bias', torch.tril(torch.ones(config.context_size, config.context_size))\n",
    "                                    .view(1, 1, config.context_size, config.context_size))\n",
    "\n",
    "    def forward(self, x):\n",
    "        b,t,c = x.size()\n",
    "        qkv = self.c_attn(x)\n",
    "        q,k,v = qkv.split(self.n_embd, dim=2)\n",
    "        q = q.view(b,t, self.n_head, c // self.n_head).transpose(1,2)\n",
    "        k = k.view(b,t, self.n_head, c // self.n_head).transpose(1,2)\n",
    "        v = v.view(b,t, self.n_head, c // self.n_head).transpose(1,2)\n",
    "\n",
    "        #att = (q @ k.transpose(-2, -1)) * (1.0 / math.sqrt(k.size(-1)))\n",
    "        #att = att.masked_fill(self.bias[:,:,:t,:t] == 0, float('-inf'))\n",
    "        #att = F.softmax(att, dim=-1)\n",
    "        #y = att @ v\n",
    "        y = F.scaled_dot_product_attention(q, k, v, is_causal=True)\n",
    "        y = y.transpose(1,2).contiguous().view(b,t,c)\n",
    "        y = self.c_proj(y)\n",
    "        return y"
   ]
  },
  {
   "cell_type": "code",
   "execution_count": 6,
   "id": "b20747d6-5619-492c-b8cf-74dba22aa134",
   "metadata": {},
   "outputs": [],
   "source": [
    "class MLP(nn.Module):\n",
    "    def __init__(self, config):\n",
    "        super().__init__()\n",
    "\n",
    "        self.c_fc = nn.Linear(config.n_embd, 4 * config.n_embd)\n",
    "        self.gelu = nn.GELU(approximate='tanh')\n",
    "        self.c_proj = nn.Linear(4 * config.n_embd, config.n_embd)\n",
    "        self.c_proj.GPT_SCALE_INIT = 1\n",
    "\n",
    "    def forward(self, x):\n",
    "        x = self.c_fc(x)\n",
    "        x = self.gelu(x)\n",
    "        x = self.c_proj(x)\n",
    "        return x"
   ]
  },
  {
   "cell_type": "code",
   "execution_count": 7,
   "id": "98935a61-af84-427a-99c0-0f8f3e838358",
   "metadata": {},
   "outputs": [],
   "source": [
    "class Block(nn.Module):\n",
    "    def __init__(self, config):\n",
    "        super().__init__()\n",
    "\n",
    "        self.ln_1 = nn.LayerNorm(config.n_embd)\n",
    "        self.attn = MultiHeadAttention(config)\n",
    "        self.ln_2 = nn.LayerNorm(config.n_embd)\n",
    "        self.mlp = MLP(config)\n",
    "\n",
    "    def forward(self, x):\n",
    "        x = x + self.attn(self.ln_1(x))\n",
    "        x = x + self.mlp(self.ln_2(x))\n",
    "        return x"
   ]
  },
  {
   "cell_type": "code",
   "execution_count": 29,
   "id": "08623bea-cbc1-4ee2-a5d7-a307a743d1fd",
   "metadata": {},
   "outputs": [],
   "source": [
    "class GPT(nn.Module):\n",
    "    def __init__(self, config):\n",
    "        super().__init__()\n",
    "        self.config = config\n",
    "\n",
    "        self.transformer = nn.ModuleDict(dict(\n",
    "            wte = nn.Embedding(config.vocab_size, config.n_embd), # weight token embedding\n",
    "            wpe = nn.Embedding(config.context_size, config.n_embd), # weight position embedding\n",
    "            h = nn.ModuleList([Block(config) for _ in range(config.n_layer)]),\n",
    "            ln_f = nn.LayerNorm(config.n_embd),\n",
    "        ))\n",
    "        self.lm_head = nn.Linear(config.n_embd, config.vocab_size, bias=False)\n",
    "\n",
    "        # weight sharing scheme\n",
    "        self.transformer.wte.weight = self.lm_head.weight\n",
    "\n",
    "        # initialize parameters\n",
    "        self.apply(self._init_weights)\n",
    "\n",
    "    def _init_weights(self, module):\n",
    "        if isinstance(module, nn.Linear):\n",
    "            std = 0.02\n",
    "            if hasattr(module,'GPT_SCALE_INIT'):\n",
    "                std *= (2 * self.config.n_layer) ** -0.5 # number of residual adds * number \n",
    "                # of layers 1/sqrt to clip scaling for each projection layer\n",
    "            torch.nn.init.normal_(module.weight, mean=0.0, std=std)\n",
    "            if module.bias is not None:\n",
    "                torch.nn.init.zeros_(module.bias)\n",
    "            elif isinstance(module, nn.Embedding):\n",
    "                torch.nn.init.normal_(module.weight, mean=0.0, std=std)\n",
    "\n",
    "    def forward(self, idx, targets=None):\n",
    "        b, t = idx.size()\n",
    "        assert t <= self.config.context_size, f\"sequence too long\"\n",
    "        pos = torch.arange(0, t, dtype=torch.long, device=idx.device)\n",
    "        pos_emb = self.transformer.wpe(pos)\n",
    "        tok_emb = self.transformer.wte(idx)\n",
    "        x = tok_emb + pos_emb\n",
    "        for block in self.transformer.h:\n",
    "            x = block(x)\n",
    "        x = self.transformer.ln_f(x)\n",
    "        logits = self.lm_head(x)\n",
    "        loss = None\n",
    "        if targets is not None:\n",
    "            loss = F.cross_entropy(logits.view(-1, logits.size(-1)), targets.view(-1))\n",
    "        return logits, loss\n",
    "\n",
    "    def configure_optimizer(self, weight_decay, lr, device):\n",
    "        param_dict = {pn: p for pn, p in self.named_parameters()}\n",
    "        param_dict = {pn: p for pn, p in param_dict.items() if p.requires_grad}\n",
    "\n",
    "        decay_params = [p for n, p in param_dict.items() if p.dim() >= 2]\n",
    "        nodecay_params = [p for n, p in param_dict.items() if p.dim() < 2]\n",
    "        optim_groups = [\n",
    "            {'params': decay_params, 'weight_decay': weight_decay},\n",
    "            {'params': nodecay_params, 'weight_decay': 0.0}\n",
    "        ]\n",
    "        num_decay_params = sum(p.numel() for p in decay_params)\n",
    "        num_nodecay_params = sum(p.numel() for p in nodecay_params)\n",
    "        print(f'num decay param tensors: {len(decay_params)}, with {num_decay_params:,} parameters')\n",
    "        print(f'num non-decayed param tensors: {len(nodecay_params)}, with {num_nodecay_params:,} parameters')\n",
    "        fused_available = 'fused' in inspect.signature(torch.optim.AdamW).parameters\n",
    "        use_fused = fused_available and 'cuda' in device\n",
    "        print(f'using fused AdamW: {use_fused}')\n",
    "        optimizer = torch.optim.AdamW(optim_groups, lr=lr, betas=(0.9, 0.95), eps=1e-8, fused=use_fused)\n",
    "        return optimizer\n",
    "\n",
    "    @classmethod\n",
    "    def from_pretrained(cls, model_type):\n",
    "        \"\"\"Loads pretrained GPT-2 model weights from huggingface\"\"\"\n",
    "        assert model_type in {'gpt2', 'gpt2-medium', 'gpt2-large', 'gpt2-xl'}\n",
    "        from transformers import GPT2LMHeadModel\n",
    "        print(\"loading weights from pretrained gpt: %s\" % model_type)\n",
    "\n",
    "        # n_layer, n_head and n_embd are determined from model_type\n",
    "        config_args = {\n",
    "            'gpt2':         dict(n_layer=12, n_head=12, n_embd=768),  # 124M params\n",
    "            'gpt2-medium':  dict(n_layer=24, n_head=16, n_embd=1024), # 350M params\n",
    "            'gpt2-large':   dict(n_layer=36, n_head=20, n_embd=1280), # 774M params\n",
    "            'gpt2-xl':      dict(n_layer=48, n_head=25, n_embd=1600), # 1558M params\n",
    "        }[model_type]\n",
    "        config_args['vocab_size'] = 50257 # always 50257 for GPT model checkpoints\n",
    "        config_args['context_size'] = 1024 # always 1024 for GPT model checkpoints\n",
    "        # create a from-scratch initialized minGPT model\n",
    "        config = GPTConfig(**config_args)\n",
    "        model = GPT(config)\n",
    "        sd = model.state_dict()\n",
    "        sd_keys = sd.keys()\n",
    "        sd_keys = [k for k in sd_keys if not k.endswith('.attn.bias')] # discard this mask / buffer, not a param\n",
    "\n",
    "        # init a huggingface/transformers model\n",
    "        model_hf = GPT2LMHeadModel.from_pretrained(model_type)\n",
    "        sd_hf = model_hf.state_dict()\n",
    "\n",
    "        # copy while ensuring all of the parameters are aligned and match in names and shapes\n",
    "        sd_keys_hf = sd_hf.keys()\n",
    "        sd_keys_hf = [k for k in sd_keys_hf if not k.endswith('.attn.masked_bias')] # ignore these, just a buffer\n",
    "        sd_keys_hf = [k for k in sd_keys_hf if not k.endswith('.attn.bias')] # same, just the mask (buffer)\n",
    "        transposed = ['attn.c_attn.weight', 'attn.c_proj.weight', 'mlp.c_fc.weight', 'mlp.c_proj.weight']\n",
    "        # basically the openai checkpoints use a \"Conv1D\" module, but we only want to use a vanilla Linear\n",
    "        # this means that we have to transpose these weights when we import them\n",
    "        assert len(sd_keys_hf) == len(sd_keys), f\"mismatched keys: {len(sd_keys_hf)} != {len(sd_keys)}\"\n",
    "        for k in sd_keys_hf:\n",
    "            if any(k.endswith(w) for w in transposed):\n",
    "                # special treatment for the Conv1D weights we need to transpose\n",
    "                assert sd_hf[k].shape[::-1] == sd[k].shape\n",
    "                with torch.no_grad():\n",
    "                    sd[k].copy_(sd_hf[k].t())\n",
    "            else:\n",
    "                # vanilla copy over the other parameters\n",
    "                assert sd_hf[k].shape == sd[k].shape\n",
    "                with torch.no_grad():\n",
    "                    sd[k].copy_(sd_hf[k])\n",
    "\n",
    "        return model"
   ]
  },
  {
   "cell_type": "code",
   "execution_count": 30,
   "id": "5fa3d0b8-6df5-48c6-994f-2d4e3513d25d",
   "metadata": {},
   "outputs": [],
   "source": [
    "#tokens = enc.encode(\"Hello, I'm a language model,\")\n",
    "#tokens = torch.tensor(tokens, dtype=torch.long)\n",
    "#tokens = tokens.unsqueeze(0).repeat(5, 1)\n",
    "#x = tokens.to('cuda')"
   ]
  },
  {
   "cell_type": "code",
   "execution_count": 31,
   "id": "52485a7b-bb32-4625-8c50-fc4b831abb6a",
   "metadata": {},
   "outputs": [],
   "source": [
    "#torch.save(model.state_dict(), './data/hugging_face_weights')"
   ]
  },
  {
   "cell_type": "code",
   "execution_count": 32,
   "id": "43c6d0c6-7c8a-4899-ae80-826b91288b19",
   "metadata": {},
   "outputs": [],
   "source": [
    "#model2 = GPT(GPTConfig())\n",
    "#model2.load_state_dict(torch.load('./data/hugging_face_weights', weights_only=True))\n",
    "#model2.eval()\n",
    "#model2.to('cuda')"
   ]
  },
  {
   "cell_type": "code",
   "execution_count": 33,
   "id": "beea3542-3350-45d9-b3be-30ea5c75bd2b",
   "metadata": {},
   "outputs": [],
   "source": [
    "class DataLoaderLite:\n",
    "    def __init__(self, b, t):\n",
    "        self.b = b\n",
    "        self.t = t\n",
    "\n",
    "        with open('./data/tiny_shakespeare.txt','r') as f: text = f.read()\n",
    "        enc = tiktoken.get_encoding('gpt2')\n",
    "        tokens = enc.encode(text)\n",
    "        self.tokens = torch.tensor(tokens)\n",
    "        print(f'loaded {len(self.tokens)} tokens')\n",
    "        print(f' 1 epoch = {len(self.tokens) // (b*t)} batches')\n",
    "\n",
    "        self.current_position = 0\n",
    "\n",
    "    def next_batch(self):\n",
    "        b, t = self.b, self.t\n",
    "        buf = self.tokens[self.current_position : self.current_position+b*t+1]\n",
    "        x = (buf[:-1]).view(b, t)\n",
    "        y = (buf[1:]).view(b, t)\n",
    "        self.current_position += b * t\n",
    "        if self.current_position + (b * t + 1) > len(self.tokens):\n",
    "            self.current_position = 0\n",
    "        return x, y"
   ]
  },
  {
   "cell_type": "code",
   "execution_count": 34,
   "id": "e302355b-5435-4fe7-b3da-2a4a1cd81e72",
   "metadata": {},
   "outputs": [
    {
     "name": "stdout",
     "output_type": "stream",
     "text": [
      "loaded 338024 tokens\n",
      " 1 epoch = 82 batches\n"
     ]
    }
   ],
   "source": [
    "train_loader = DataLoaderLite(4, 1024)\n",
    "torch.set_float32_matmul_precision('high')"
   ]
  },
  {
   "cell_type": "code",
   "execution_count": 35,
   "id": "bff42c07-6523-4b0a-bc2f-d093c397921f",
   "metadata": {},
   "outputs": [],
   "source": [
    "epochs = 50\n",
    "max_lr=6e-4\n",
    "min_lr = max_lr * 0.1\n",
    "warmup_steps = 10\n",
    "max_steps = 50"
   ]
  },
  {
   "cell_type": "code",
   "execution_count": 36,
   "id": "777d6a52-adbb-45d4-b0ae-854b98648a0e",
   "metadata": {},
   "outputs": [],
   "source": [
    "def cosine_lr_scheduler(it):\n",
    "    if it < warmup_steps:\n",
    "        return max_lr * (it+1) / warmup_steps\n",
    "    if it > max_steps:\n",
    "        return min_lr\n",
    "    decay_ratio = (it - warmup_steps) / (max_steps - warmup_steps)\n",
    "    assert 0 <= decay_ratio <= 1\n",
    "    coeff = 0.5 * (1.0 + math.cos(math.pi * decay_ratio))\n",
    "    return min_lr + coeff * (max_lr - min_lr)"
   ]
  },
  {
   "cell_type": "code",
   "execution_count": 37,
   "id": "aeb05e62-85d6-4285-83ee-bab3b33a755d",
   "metadata": {},
   "outputs": [],
   "source": [
    "model = GPT(GPTConfig(vocab_size=50304))\n",
    "model.to('cuda')\n",
    "model = torch.compile(model)"
   ]
  },
  {
   "cell_type": "code",
   "execution_count": 42,
   "id": "63ec3c11-a0ab-4c15-98b3-fb033431e17c",
   "metadata": {},
   "outputs": [
    {
     "name": "stdout",
     "output_type": "stream",
     "text": [
      "num decay param tensors: 50, with 124,354,560 parameters\n",
      "num non-decayed param tensors: 98, with 121,344 parameters\n",
      "using fused AdamW: True\n"
     ]
    }
   ],
   "source": [
    "#optimizer = torch.optim.AdamW(model.parameters(), lr=max_lr)\n",
    "optimizer = model.configure_optimizer(weight_decay=0.1, lr=6e-4, device='cuda')\n",
    "scheduler = torch.optim.lr_scheduler.CosineAnnealingLR(optimizer, epochs, min_lr)"
   ]
  },
  {
   "cell_type": "markdown",
   "id": "a0625ebf-915b-4263-80a8-bf5b643f55b8",
   "metadata": {},
   "source": [
    "default loss should be negative log likeliehood aka -ln(1/50257)"
   ]
  },
  {
   "cell_type": "code",
   "execution_count": 44,
   "id": "54f091b2-a330-48ae-ae94-8c9b4a063279",
   "metadata": {},
   "outputs": [
    {
     "name": "stdout",
     "output_type": "stream",
     "text": [
      "step 0, loss: 9.652811050415039, dt: 303.45ms, tok/sec: 13498.02, norm: 7.115577220916748,\n",
      "step 1, loss: 9.492239952087402, dt: 100.99ms, tok/sec: 40558.26, norm: 4.09261417388916,\n",
      "step 2, loss: 8.447969436645508, dt: 91.24ms, tok/sec: 44891.69, norm: 3.7570278644561768,\n",
      "step 3, loss: 7.772185325622559, dt: 93.40ms, tok/sec: 43854.50, norm: 2.0779974460601807,\n",
      "step 4, loss: 7.569711685180664, dt: 91.64ms, tok/sec: 44695.36, norm: 4.965698719024658,\n",
      "step 5, loss: 7.247500896453857, dt: 90.24ms, tok/sec: 45391.03, norm: 5.085233211517334,\n",
      "step 6, loss: 7.039894104003906, dt: 93.21ms, tok/sec: 43945.93, norm: 2.702420711517334,\n",
      "step 7, loss: 6.715356826782227, dt: 91.33ms, tok/sec: 44848.44, norm: 1.4883853197097778,\n",
      "step 8, loss: 6.77267599105835, dt: 90.48ms, tok/sec: 45271.54, norm: 1.6959059238433838,\n",
      "step 9, loss: 6.926285266876221, dt: 92.80ms, tok/sec: 44138.32, norm: 1.954379677772522,\n",
      "step 10, loss: 7.197279930114746, dt: 91.23ms, tok/sec: 44896.15, norm: 2.11727237701416,\n",
      "step 11, loss: 7.164736270904541, dt: 90.48ms, tok/sec: 45271.89, norm: 1.6472505331039429,\n",
      "step 12, loss: 6.838889122009277, dt: 92.94ms, tok/sec: 44069.93, norm: 1.3215060234069824,\n",
      "step 13, loss: 6.904705047607422, dt: 91.55ms, tok/sec: 44739.94, norm: 1.188926100730896,\n",
      "step 14, loss: 6.848599910736084, dt: 90.96ms, tok/sec: 45030.77, norm: 1.2945293188095093,\n",
      "step 15, loss: 6.673722743988037, dt: 92.77ms, tok/sec: 44150.45, norm: 1.4536563158035278,\n",
      "step 16, loss: 6.914858818054199, dt: 91.27ms, tok/sec: 44878.55, norm: 1.4615402221679688,\n",
      "step 17, loss: 7.017667770385742, dt: 90.45ms, tok/sec: 45286.22, norm: 1.2716554403305054,\n",
      "step 18, loss: 7.227180004119873, dt: 91.64ms, tok/sec: 44697.92, norm: 1.283769965171814,\n",
      "step 19, loss: 7.1156134605407715, dt: 91.42ms, tok/sec: 44805.28, norm: 1.555903434753418,\n",
      "step 20, loss: 7.0361433029174805, dt: 91.25ms, tok/sec: 44886.06, norm: 1.1917481422424316,\n",
      "step 21, loss: 7.107002258300781, dt: 93.17ms, tok/sec: 43962.35, norm: 1.200714349746704,\n",
      "step 22, loss: 7.078451156616211, dt: 91.85ms, tok/sec: 44595.35, norm: 1.1674110889434814,\n",
      "step 23, loss: 7.07480001449585, dt: 91.59ms, tok/sec: 44723.40, norm: 1.1104116439819336,\n",
      "step 24, loss: 6.8629045486450195, dt: 93.66ms, tok/sec: 43734.93, norm: 1.1814459562301636,\n",
      "step 25, loss: 6.8828325271606445, dt: 91.89ms, tok/sec: 44574.29, norm: 0.84621661901474,\n",
      "step 26, loss: 6.906469345092773, dt: 90.95ms, tok/sec: 45036.08, norm: 0.8817360997200012,\n",
      "step 27, loss: 6.754847049713135, dt: 93.06ms, tok/sec: 44014.72, norm: 0.9860230684280396,\n",
      "step 28, loss: 6.735625743865967, dt: 91.83ms, tok/sec: 44605.89, norm: 0.9550778865814209,\n",
      "step 29, loss: 6.656276702880859, dt: 91.86ms, tok/sec: 44591.65, norm: 1.1891518831253052,\n",
      "step 30, loss: 6.762135982513428, dt: 91.98ms, tok/sec: 44530.85, norm: 1.1360702514648438,\n",
      "step 31, loss: 6.816351890563965, dt: 91.76ms, tok/sec: 44639.50, norm: 1.0483893156051636,\n",
      "step 32, loss: 6.815387725830078, dt: 91.02ms, tok/sec: 44998.69, norm: 1.0442285537719727,\n",
      "step 33, loss: 6.831942081451416, dt: 93.68ms, tok/sec: 43721.80, norm: 1.083510398864746,\n",
      "step 34, loss: 6.635133743286133, dt: 95.80ms, tok/sec: 42754.18, norm: 0.9896044135093689,\n",
      "step 35, loss: 6.812954902648926, dt: 99.72ms, tok/sec: 41075.70, norm: 0.9796005487442017,\n",
      "step 36, loss: 6.655817031860352, dt: 99.58ms, tok/sec: 41131.36, norm: 0.8903884291648865,\n",
      "step 37, loss: 6.514580726623535, dt: 95.74ms, tok/sec: 42784.31, norm: 0.9525125622749329,\n",
      "step 38, loss: 6.62582540512085, dt: 91.95ms, tok/sec: 44544.36, norm: 1.0522767305374146,\n",
      "step 39, loss: 6.732677459716797, dt: 92.71ms, tok/sec: 44181.00, norm: 0.8686097860336304,\n",
      "step 40, loss: 6.563223838806152, dt: 92.20ms, tok/sec: 44423.76, norm: 1.1013989448547363,\n",
      "step 41, loss: 6.553606986999512, dt: 92.15ms, tok/sec: 44451.58, norm: 0.9964709281921387,\n",
      "step 42, loss: 6.678999423980713, dt: 93.76ms, tok/sec: 43685.67, norm: 0.9338592290878296,\n",
      "step 43, loss: 6.627344131469727, dt: 91.92ms, tok/sec: 44561.00, norm: 0.78497314453125,\n",
      "step 44, loss: 6.519636631011963, dt: 91.57ms, tok/sec: 44731.21, norm: 0.7316411733627319,\n",
      "step 45, loss: 6.538653373718262, dt: 93.68ms, tok/sec: 43722.13, norm: 0.9477062225341797,\n",
      "step 46, loss: 6.570123672485352, dt: 92.54ms, tok/sec: 44264.21, norm: 0.822431743144989,\n",
      "step 47, loss: 6.4796905517578125, dt: 96.54ms, tok/sec: 42426.45, norm: 0.7660651803016663,\n",
      "step 48, loss: 6.652026176452637, dt: 98.69ms, tok/sec: 41505.59, norm: 0.8209443688392639,\n",
      "step 49, loss: 6.540781497955322, dt: 99.61ms, tok/sec: 41119.74, norm: 0.7301090359687805,\n"
     ]
    }
   ],
   "source": [
    "for i in range(epochs):\n",
    "    t0 = time.time()\n",
    "    x, y = train_loader.next_batch()\n",
    "    x, y = x.to('cuda'), y.to('cuda')\n",
    "    optimizer.zero_grad()\n",
    "    with torch.autocast(device_type='cuda', dtype=torch.bfloat16):\n",
    "        logits, loss = model(x, y)\n",
    "    loss.backward()\n",
    "    norm = torch.nn.utils.clip_grad_norm_(model.parameters(),1.0)\n",
    "    #lr = cosine_lr_scheduler(i)\n",
    "    #for param_group in optimizer.param_groups:\n",
    "    #    param_group['lr'] = lr\n",
    "    optimizer.step()\n",
    "    scheduler.step()\n",
    "    torch.cuda.synchronize()\n",
    "    t1 = time.time()\n",
    "    dt = (t1 - t0) * 1000\n",
    "    tokens_per_sec = (train_loader.b * train_loader.t) / (t1-t0)\n",
    "    print(f'step {i}, loss: {loss.item()}, dt: {dt:.2f}ms, tok/sec: {tokens_per_sec:.2f}, norm: {norm},')"
   ]
  },
  {
   "cell_type": "markdown",
   "id": "845966e4-64b7-4178-bd6e-75c9b1922ee4",
   "metadata": {},
   "source": [
    "### speedups\n",
    "\n",
    "- matmul precision\n",
    "- change type to bfloat16\n",
    "- torch.compile\n",
    "- deal with \"ugly\" numbers\n",
    "- switch to flash attention"
   ]
  },
  {
   "cell_type": "markdown",
   "id": "08abd992-c062-4867-9820-4c6fcfc1aff2",
   "metadata": {},
   "source": [
    "### hyper parameters\n",
    "- gradient clipping\n",
    "- cosine decay learning rate scheduler with warmup\n",
    "- optimizer weight decay"
   ]
  }
 ],
 "metadata": {
  "kernelspec": {
   "display_name": "Python 3 (ipykernel)",
   "language": "python",
   "name": "python3"
  },
  "language_info": {
   "codemirror_mode": {
    "name": "ipython",
    "version": 3
   },
   "file_extension": ".py",
   "mimetype": "text/x-python",
   "name": "python",
   "nbconvert_exporter": "python",
   "pygments_lexer": "ipython3",
   "version": "3.9.23"
  }
 },
 "nbformat": 4,
 "nbformat_minor": 5
}
