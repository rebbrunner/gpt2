{
 "cells": [
  {
   "cell_type": "code",
   "execution_count": null,
   "id": "33f2c177-845a-4edb-a541-3c6ca4ced54a",
   "metadata": {},
   "outputs": [],
   "source": [
    "import math, numpy"
   ]
  },
  {
   "cell_type": "code",
   "execution_count": null,
   "id": "93dc578d-fd22-405d-b8f5-9a7ba59ffb76",
   "metadata": {},
   "outputs": [],
   "source": [
    "# Class to add linked list 'memory' to a mathematical expression\n",
    "class Value:\n",
    "    def __init__(self, data, _children=(), _op='', label=''):\n",
    "        self.data = data\n",
    "        self.grad = 0.0 # zeroing gradients, seen at the start of any training loop\n",
    "        self._prev = set(_children)\n",
    "        self._op = _op\n",
    "        self.label = label\n",
    "\n",
    "    def __repr__(self):\n",
    "        return f'Value(data={self.data})'\n",
    "\n",
    "    def __add__(self, other):\n",
    "        return Value(self.data + other.data, (self, other), '+')\n",
    "\n",
    "    def __mul__(self, other):\n",
    "        return Value(self.data * other.data, (self, other), '*')\n",
    "\n",
    "    def __tanh__(self):\n",
    "        n = self.data\n",
    "        t = (math.exp(2*n)-1)/(math.exp(2*n) + 1)\n",
    "        out = Value(t, (self,), 'tanh')\n",
    "        return out"
   ]
  },
  {
   "cell_type": "code",
   "execution_count": null,
   "id": "20cf039d-03c5-4184-9940-20dcffde8221",
   "metadata": {},
   "outputs": [],
   "source": []
  }
 ],
 "metadata": {
  "kernelspec": {
   "display_name": "Python 3 (ipykernel)",
   "language": "python",
   "name": "python3"
  },
  "language_info": {
   "codemirror_mode": {
    "name": "ipython",
    "version": 3
   },
   "file_extension": ".py",
   "mimetype": "text/x-python",
   "name": "python",
   "nbconvert_exporter": "python",
   "pygments_lexer": "ipython3",
   "version": "3.9.23"
  }
 },
 "nbformat": 4,
 "nbformat_minor": 5
}
