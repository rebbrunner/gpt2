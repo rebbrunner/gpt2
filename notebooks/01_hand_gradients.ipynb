{
 "cells": [
  {
   "cell_type": "code",
   "execution_count": 1,
   "id": "61538303-ed06-4dbe-a993-82fc5ad64cd0",
   "metadata": {},
   "outputs": [],
   "source": [
    "import torch"
   ]
  },
  {
   "cell_type": "code",
   "execution_count": 2,
   "id": "f1fbf292-4c96-4f21-a0ee-f79ae75824eb",
   "metadata": {},
   "outputs": [
    {
     "data": {
      "text/plain": [
       "True"
      ]
     },
     "execution_count": 2,
     "metadata": {},
     "output_type": "execute_result"
    }
   ],
   "source": [
    "torch.cuda.is_available()"
   ]
  },
  {
   "cell_type": "markdown",
   "id": "455e4125-76fb-433c-9198-8c64a76d6c65",
   "metadata": {},
   "source": [
    "## Rate of Change (Derivatives)"
   ]
  },
  {
   "cell_type": "code",
   "execution_count": 3,
   "id": "9a25d822-3381-4c9b-9deb-8f388817eec6",
   "metadata": {},
   "outputs": [],
   "source": [
    "import math\n",
    "import numpy as np"
   ]
  },
  {
   "cell_type": "code",
   "execution_count": 32,
   "id": "2046ce0e-b6bd-4391-a2ff-aed9b5a49f2e",
   "metadata": {},
   "outputs": [],
   "source": [
    "def f(x):\n",
    "    return 3*x**2 - 4*x+5"
   ]
  },
  {
   "cell_type": "code",
   "execution_count": 33,
   "id": "29455c3a-bae5-487a-8c91-320b633dad3e",
   "metadata": {},
   "outputs": [
    {
     "data": {
      "text/plain": [
       "20.0"
      ]
     },
     "execution_count": 33,
     "metadata": {},
     "output_type": "execute_result"
    }
   ],
   "source": [
    "f(3.0)"
   ]
  },
  {
   "cell_type": "code",
   "execution_count": 35,
   "id": "ab28c455-ae18-4579-9e7e-72f76e5d08e1",
   "metadata": {},
   "outputs": [
    {
     "data": {
      "text/plain": [
       "20.014003000000002"
      ]
     },
     "execution_count": 35,
     "metadata": {},
     "output_type": "execute_result"
    }
   ],
   "source": [
    "# (f(x + h)-f(x))/h -> definition of a derivative\n",
    "h = 0.001\n",
    "x = 3.0\n",
    "f(x + h) # bump function, respons positively"
   ]
  },
  {
   "cell_type": "code",
   "execution_count": 36,
   "id": "061fe80e-f876-4da8-8d95-a32fd5948ab3",
   "metadata": {},
   "outputs": [
    {
     "data": {
      "text/plain": [
       "0.01400300000000243"
      ]
     },
     "execution_count": 36,
     "metadata": {},
     "output_type": "execute_result"
    }
   ],
   "source": [
    "f(x + h) - f(x) # Remove the function to get how much the function responded"
   ]
  },
  {
   "cell_type": "code",
   "execution_count": 37,
   "id": "5d6becd9-367f-46cd-828f-3cc5ff028700",
   "metadata": {},
   "outputs": [
    {
     "data": {
      "text/plain": [
       "14.00300000000243"
      ]
     },
     "execution_count": 37,
     "metadata": {},
     "output_type": "execute_result"
    }
   ],
   "source": [
    "(f(x + h) - f(x))/h # slope at point"
   ]
  },
  {
   "cell_type": "markdown",
   "id": "a3619986-9be0-4df8-8231-4869d703a26b",
   "metadata": {},
   "source": [
    "## Forward and Backwards"
   ]
  },
  {
   "cell_type": "code",
   "execution_count": 31,
   "id": "33f2a2cf-96e5-4424-a378-a002961d4ee1",
   "metadata": {},
   "outputs": [],
   "source": [
    "# Class to add linked list 'memory' to a mathematical expression\n",
    "class Value:\n",
    "    def __init__(self, data, _children=(), _op='', label=''):\n",
    "        self.data = data\n",
    "        self.grad = 0.0 # zeroing gradients, seen at the start of any training loop\n",
    "        self._prev = set(_children)\n",
    "        self._op = _op\n",
    "        self.label = label\n",
    "\n",
    "    def __repr__(self):\n",
    "        return f'Value(data={self.data})'\n",
    "\n",
    "    def __add__(self, other):\n",
    "        return Value(self.data + other.data, (self, other), '+')\n",
    "\n",
    "    def __mul__(self, other):\n",
    "        return Value(self.data * other.data, (self, other), '*')\n",
    "\n",
    "    def __tanh__(self):\n",
    "        n = self.data\n",
    "        t = (math.exp(2*n)-1)/(math.exp(2*n) + 1)\n",
    "        out = Value(t, (self,), 'tanh')\n",
    "        return out"
   ]
  },
  {
   "cell_type": "code",
   "execution_count": 38,
   "id": "35c72df0-0ec8-401d-9164-3adafbbfd9dd",
   "metadata": {
    "jupyter": {
     "source_hidden": true
    }
   },
   "outputs": [
    {
     "data": {
      "text/plain": [
       "(Value(data=-8.0), {Value(data=-2.0), Value(data=4.0)}, '*', 'L')"
      ]
     },
     "execution_count": 38,
     "metadata": {},
     "output_type": "execute_result"
    }
   ],
   "source": [
    "# Forward pass (2 * -3 + 10) * -2\n",
    "a = Value(2.0, label='a')\n",
    "b = Value(-3.0, label='b')\n",
    "c = Value(10.0, label='c')\n",
    "e = a*b; e.label='e'\n",
    "d = e+c; d.label='d'\n",
    "f = Value(-2.0, label='f')\n",
    "L = d * f; L.label='L'\n",
    "L, L._prev, L._op, L.label"
   ]
  },
  {
   "cell_type": "markdown",
   "id": "918dabfc-df81-4a37-92c1-42dcdbdd6476",
   "metadata": {
    "jupyter": {
     "source_hidden": true
    }
   },
   "source": [
    "dL/da = -2.0 * -3.0 = 6.0\n",
    "dL/db = -2.0 * 2.0 = -4.0\n",
    "\n",
    "de/da = -3.0 | b\n",
    "de/db = 2.0 | a\n",
    "\n",
    "e = a * b\n",
    "(((a + h) * b) -(a * b))/h\n",
    "(ab + hb - ab) / h\n",
    "hb/h\n",
    "b"
   ]
  },
  {
   "cell_type": "markdown",
   "id": "36ea5a5d-993d-424c-ac73-72015a33c7d1",
   "metadata": {
    "jupyter": {
     "source_hidden": true
    }
   },
   "source": [
    "Application of chain rule\n",
    "\n",
    "dz/dx = dz/dy * dy/dx\n",
    "\n",
    "dL/dc = (dL/dd) * (dd/dc)\n",
    "dL/dc = -2.0 * 1\n",
    "dL/dc = -2.0\n",
    "\n",
    "takeaway - addition passes through value"
   ]
  },
  {
   "cell_type": "markdown",
   "id": "30f4f2a8-5e6a-41d9-9056-684bbb4501ef",
   "metadata": {
    "jupyter": {
     "source_hidden": true
    }
   },
   "source": [
    "dL / dc -2.0\n",
    "dL / de -2.0\n",
    "\n",
    "dd / dc 1.0\n",
    "dd / de 1.0\n",
    "\n",
    "d = c + e\n",
    "\n",
    "(f(x + h)-f(x))/h\n",
    "((c + h + e)-(e + c))/h\n",
    "(c + h + e - e - c)/h\n",
    "h/h\n",
    "1"
   ]
  },
  {
   "cell_type": "markdown",
   "id": "f659c326-9986-4062-94c8-f12eb0fa616f",
   "metadata": {
    "jupyter": {
     "source_hidden": true
    }
   },
   "source": [
    "L = d * f\n",
    "\n",
    "dL/dd = f \n",
    "dL/df = d\n",
    "\n",
    "(f(x+h)-f(x))/h\n",
    "x = d\n",
    "\n",
    "dL = (((d + h) * f)-d * f)/h\n",
    "(d*f + h*f - d * f)/h\n",
    "h*f/h\n",
    "f\n",
    "\n",
    "Multiplacation takes other side and addition is a passthrough"
   ]
  },
  {
   "cell_type": "code",
   "execution_count": 57,
   "id": "ef2ea79b-c452-4ab8-86f4-3972d120cc32",
   "metadata": {
    "jupyter": {
     "source_hidden": true
    }
   },
   "outputs": [],
   "source": [
    "a.grad = 6.0\n",
    "b.grad = -4.0\n",
    "c.grad = -2.0\n",
    "e.grad = -2.0\n",
    "d.grad = -2.0\n",
    "f.grad = 4.0\n",
    "L.grad = 1.0"
   ]
  },
  {
   "cell_type": "code",
   "execution_count": 58,
   "id": "4bfa08ab-b406-404a-bd6f-96209b63caa6",
   "metadata": {},
   "outputs": [
    {
     "data": {
      "text/plain": [
       "-7.4352"
      ]
     },
     "execution_count": 58,
     "metadata": {},
     "output_type": "execute_result"
    }
   ],
   "source": [
    "# optimize leaf nodes\n",
    "h = 0.01\n",
    "a.data += h * a.grad\n",
    "b.data += h * b.grad\n",
    "c.data += h * c.grad\n",
    "f.data += h * f.grad\n",
    "\n",
    "e = a*b; e.label='e'\n",
    "d = e+c; d.label='d'\n",
    "f = Value(-2.0, label='f')\n",
    "L = d * f; L.label='L'\n",
    "L.data\n",
    "\n",
    "# If gradients are correct we expect to nudge to 0, so -8 should go up"
   ]
  },
  {
   "cell_type": "code",
   "execution_count": 56,
   "id": "266bf100-d234-4ed1-92ae-991a10275c22",
   "metadata": {
    "jupyter": {
     "source_hidden": true
    }
   },
   "outputs": [
    {
     "name": "stdout",
     "output_type": "stream",
     "text": [
      "-3.9999999999995595\n"
     ]
    }
   ],
   "source": [
    "def check():\n",
    "    h = 0.001\n",
    "    \n",
    "    a = Value(2.0, label='a')\n",
    "    b = Value(-3.0, label='b')\n",
    "    c = Value(10.0, label='c')\n",
    "    e = a*b; e.label='e'\n",
    "    d = e+c; d.label='d'\n",
    "    f = Value(-2.0, label='f')\n",
    "    L = d * f; L.label='L'\n",
    "    L1 = L.data\n",
    "\n",
    "    a = Value(2.0, label='a')\n",
    "    b = Value(-3.0 + h, label='b')\n",
    "    c = Value(10.0, label='c')\n",
    "    e = a*b; e.label='e'\n",
    "    d = e+c; d.label='d'\n",
    "    f = Value(-2.0, label='f')\n",
    "    L = d * f; L.label='L'\n",
    "    L2 = L.data\n",
    "\n",
    "    print((L2 - L1)/h) # rise over run\n",
    "\n",
    "check() # Derivative of L with respect to h"
   ]
  },
  {
   "cell_type": "markdown",
   "id": "cf762486-9ed2-486b-af41-8333834a4fca",
   "metadata": {},
   "source": [
    "1. Theory: All problems can be represented by many linear functions fed through a non-linear function\n",
    "2. Correct answer v guess can be graphed, by using calculus we can iteratively push our predicted answers to the correct answer -> \"gradient descent\"\n",
    "3. Definition of a derivative: df(x) = (f(x + h) - f(x))/h\n",
    "4. Create a class with a linked list structure, this linked list strucutre holds the memory of previous calulations\n",
    "5. Manually by hand backpropagate back to the beginning\n",
    "6. Manually optimize by updating each functions \"gradient\"\n",
    "7. Define atomic functions for this class, each one should include a function to calculate the derivative and apply the chain rule (chain rule is used to pull the loss from the front of the expression (answer) back to the start)\n",
    "8. Define a MLP with neurons, layers\n",
    "9. Create functions to extract parameters up to the top of the model for easy updating\n",
    "10. Calculate the loss (mean squared error)\n",
    "11. Back propagate the loss back through\n",
    "12. Update the parameters\n",
    "13. Create a training loop (zero gradients before calling loss)"
   ]
  }
 ],
 "metadata": {
  "kernelspec": {
   "display_name": "Python 3 (ipykernel)",
   "language": "python",
   "name": "python3"
  },
  "language_info": {
   "codemirror_mode": {
    "name": "ipython",
    "version": 3
   },
   "file_extension": ".py",
   "mimetype": "text/x-python",
   "name": "python",
   "nbconvert_exporter": "python",
   "pygments_lexer": "ipython3",
   "version": "3.9.23"
  }
 },
 "nbformat": 4,
 "nbformat_minor": 5
}
